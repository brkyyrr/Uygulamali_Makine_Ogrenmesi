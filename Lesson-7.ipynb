{
 "cells": [
  {
   "cell_type": "code",
   "execution_count": 1,
   "metadata": {},
   "outputs": [],
   "source": [
    "from sklearn.datasets import load_breast_cancer"
   ]
  },
  {
   "cell_type": "code",
   "execution_count": 2,
   "metadata": {},
   "outputs": [],
   "source": [
    "kanser = load_breast_cancer()"
   ]
  },
  {
   "cell_type": "code",
   "execution_count": 3,
   "metadata": {},
   "outputs": [],
   "source": [
    "from sklearn.model_selection import train_test_split"
   ]
  },
  {
   "cell_type": "code",
   "execution_count": 4,
   "metadata": {},
   "outputs": [],
   "source": [
    "X_egitim, X_test, y_egitim, y_test = train_test_split(kanser.data, kanser.target, stratify=kanser.target, random_state=42)"
   ]
  },
  {
   "cell_type": "code",
   "execution_count": 5,
   "metadata": {},
   "outputs": [],
   "source": [
    "from sklearn.linear_model import LogisticRegression"
   ]
  },
  {
   "cell_type": "code",
   "execution_count": 7,
   "metadata": {},
   "outputs": [],
   "source": [
    "logreg = LogisticRegression(solver=\"liblinear\").fit(X_egitim,y_egitim)"
   ]
  },
  {
   "cell_type": "code",
   "execution_count": 8,
   "metadata": {},
   "outputs": [
    {
     "name": "stdout",
     "output_type": "stream",
     "text": [
      "0.9530516431924883\n",
      "0.958041958041958\n"
     ]
    }
   ],
   "source": [
    "print(logreg.score(X_egitim, y_egitim))\n",
    "print(logreg.score(X_test, y_test))"
   ]
  },
  {
   "cell_type": "code",
   "execution_count": 9,
   "metadata": {},
   "outputs": [],
   "source": [
    "logreg100 = LogisticRegression(C=100, solver=\"liblinear\").fit(X_egitim,y_egitim)"
   ]
  },
  {
   "cell_type": "code",
   "execution_count": 10,
   "metadata": {},
   "outputs": [
    {
     "name": "stdout",
     "output_type": "stream",
     "text": [
      "0.9671361502347418\n",
      "0.965034965034965\n"
     ]
    }
   ],
   "source": [
    "print(logreg100.score(X_egitim, y_egitim))\n",
    "print(logreg100.score(X_test, y_test))"
   ]
  },
  {
   "cell_type": "code",
   "execution_count": 11,
   "metadata": {},
   "outputs": [],
   "source": [
    "logreg001 = LogisticRegression(C=0.01, solver=\"liblinear\").fit(X_egitim,y_egitim)"
   ]
  },
  {
   "cell_type": "code",
   "execution_count": 12,
   "metadata": {},
   "outputs": [
    {
     "name": "stdout",
     "output_type": "stream",
     "text": [
      "0.9342723004694836\n",
      "0.9300699300699301\n"
     ]
    }
   ],
   "source": [
    "print(logreg001.score(X_egitim, y_egitim))\n",
    "print(logreg001.score(X_test, y_test))"
   ]
  },
  {
   "cell_type": "code",
   "execution_count": 16,
   "metadata": {},
   "outputs": [
    {
     "name": "stdout",
     "output_type": "stream",
     "text": [
      "C=0.001 için eğitim doğruluk 0.91\n",
      "C=0.001 için test doğruluk 0.92\n",
      "C=1.000 için eğitim doğruluk 0.96\n",
      "C=1.000 için test doğruluk 0.96\n",
      "C=100.000 için eğitim doğruluk 0.99\n",
      "C=100.000 için test doğruluk 0.98\n"
     ]
    }
   ],
   "source": [
    "for C, market in zip([0.001,1,100],[\"o\",\"^\",\"v\"]):\n",
    "    lr_l1 = LogisticRegression(penalty=\"l1\", solver =\"liblinear\", C=C).fit(X_egitim,y_egitim)\n",
    "    print(\"C={:.3f} için eğitim doğruluk {:.2f}\".format(C, lr_l1.score(X_egitim, y_egitim)))\n",
    "    print(\"C={:.3f} için test doğruluk {:.2f}\".format(C, lr_l1.score(X_test, y_test)))"
   ]
  },
  {
   "cell_type": "code",
   "execution_count": 17,
   "metadata": {},
   "outputs": [],
   "source": [
    "from sklearn.datasets import make_blobs\n",
    "import mglearn"
   ]
  },
  {
   "cell_type": "code",
   "execution_count": 18,
   "metadata": {},
   "outputs": [],
   "source": [
    "%matplotlib inline"
   ]
  },
  {
   "cell_type": "code",
   "execution_count": 19,
   "metadata": {},
   "outputs": [],
   "source": [
    "X, y = make_blobs(random_state=42)"
   ]
  },
  {
   "cell_type": "code",
   "execution_count": 20,
   "metadata": {},
   "outputs": [
    {
     "data": {
      "text/plain": [
       "<matplotlib.legend.Legend at 0x1d85b563370>"
      ]
     },
     "execution_count": 20,
     "metadata": {},
     "output_type": "execute_result"
    },
    {
     "data": {
      "image/png": "[encoded data removed]",
      "text/plain": [
       "<Figure size 432x288 with 1 Axes>"
      ]
     },
     "metadata": {
      "needs_background": "light"
     },
     "output_type": "display_data"
    }
   ],
   "source": [
    "import matplotlib.pyplot as plt\n",
    "mglearn.discrete_scatter(X[:,0], X[:,1],y)\n",
    "plt.xlabel(\"Öz nitelik 0\")\n",
    "plt.ylabel(\"Öz nitelik 1\")\n",
    "plt.legend([\"sınıf 0\", \"sınıf 1\", \"sınıf 2\"])"
   ]
  },
  {
   "cell_type": "code",
   "execution_count": 22,
   "metadata": {},
   "outputs": [],
   "source": [
    "from sklearn.svm import LinearSVC"
   ]
  },
  {
   "cell_type": "code",
   "execution_count": 23,
   "metadata": {},
   "outputs": [],
   "source": [
    "linear_svm = LinearSVC().fit(X,y)"
   ]
  },
  {
   "cell_type": "code",
   "execution_count": 24,
   "metadata": {},
   "outputs": [
    {
     "data": {
      "text/plain": [
       "array([[-0.1749309 ,  0.23140611],\n",
       "       [ 0.47621531, -0.06937484],\n",
       "       [-0.18914447, -0.20399768]])"
      ]
     },
     "execution_count": 24,
     "metadata": {},
     "output_type": "execute_result"
    }
   ],
   "source": [
    "linear_svm.coef_"
   ]
  },
  {
   "cell_type": "code",
   "execution_count": 26,
   "metadata": {},
   "outputs": [
    {
     "data": {
      "text/plain": [
       "<matplotlib.legend.Legend at 0x1d85b774ee0>"
      ]
     },
     "execution_count": 26,
     "metadata": {},
     "output_type": "execute_result"
    },
    {
     "data": {
      "image/png": "[encoded data removed]",
      "text/plain": [
       "<Figure size 432x288 with 1 Axes>"
      ]
     },
     "metadata": {
      "needs_background": "light"
     },
     "output_type": "display_data"
    }
   ],
   "source": [
    "import numpy as np\n",
    "mglearn.discrete_scatter(X[:,0], X[:,1],y)\n",
    "line = np.linspace(-15,15)\n",
    "for coef, intercept, color in zip(linear_svm.coef_, linear_svm.intercept_, [\"b\",\"r\",\"g\"]):\n",
    "    plt.plot(line, -(line*coef[0]+intercept)/coef[1], c = color)\n",
    "plt.ylim(-10,15)\n",
    "plt.xlim(-10,8)\n",
    "plt.xlabel(\"Öz nitelik 0\")\n",
    "plt.ylabel(\"Öz nitelik 1\")\n",
    "plt.legend([\"sınıf 0\", \"sınıf 1\", \"sınıf 2\", \"doğru sınıf 0\", \"doğru sınıf 1\", \"doğru sınıf 2\"],\n",
    "                loc = (1.02,0.4))"
   ]
  },
  {
   "cell_type": "code",
   "execution_count": null,
   "metadata": {},
   "outputs": [],
   "source": []
  }
 ],
 "metadata": {
  "interpreter": {
   "hash": "1dba1546e14e29761f4dfa5384a4a5378d74549e8f4c88cb3b0d626371e32bf8"
  },
  "kernelspec": {
   "display_name": "Python 3.8.10 ('my_example')",
   "language": "python",
   "name": "python3"
  },
  "language_info": {
   "codemirror_mode": {
    "name": "ipython",
    "version": 3
   },
   "file_extension": ".py",
   "mimetype": "text/x-python",
   "name": "python",
   "nbconvert_exporter": "python",
   "pygments_lexer": "ipython3",
   "version": "3.8.10"
  },
  "orig_nbformat": 4
 },
 "nbformat": 4,
 "nbformat_minor": 2
}
